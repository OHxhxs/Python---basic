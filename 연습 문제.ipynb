{
 "cells": [
  {
   "cell_type": "markdown",
   "metadata": {},
   "source": [
    "# 조건문 문제\n",
    "# 1번문제"
   ]
  },
  {
   "cell_type": "code",
   "execution_count": null,
   "metadata": {},
   "outputs": [],
   "source": [
    "# 연도를 입력으로 받아 윤년인지 아닌지를 출력하는 프로그램을 작성하시오. \n",
    "# 윤년은 연도가 4의 배수이면서, 100의 배수가 아닐 때 또는 400의 배수일 때이다.\n",
    "# 예를들어, 2012년은 4의 배수라서 윤년이지만, 1900년은 4의 배수이지만, 100의 배수이기 때문에 윤년이 아니다. \n",
    "# 하지만, 2000년은 400의 배수이기 때문에 윤년이다.)\n"
   ]
  },
  {
   "cell_type": "code",
   "execution_count": 7,
   "metadata": {},
   "outputs": [],
   "source": [
    "# 내가 푼 문제\n",
    "year = int(input())\n",
    "if year % 400 == 0 :\n",
    "    print(f'{year}은 윤년입니다.')\n",
    "elif year % 100 == 0 :\n",
    "    print(f'{year}은 윤년이 아닙니다.')\n",
    "elif year % 4 == 0 :\n",
    "    print(f'{year}은 윤년입니다.') \n",
    "    "
   ]
  },
  {
   "cell_type": "code",
   "execution_count": null,
   "metadata": {},
   "outputs": [],
   "source": [
    "year = int(input())\n"
   ]
  },
  {
   "cell_type": "code",
   "execution_count": 8,
   "metadata": {},
   "outputs": [
    {
     "name": "stdout",
     "output_type": "stream",
     "text": [
      "5은 윤년이 아닙니다.\n"
     ]
    }
   ],
   "source": [
    "# 선생님이 푼 문제\n",
    "year = int(input())\n",
    "if year % 400 == 0 :\n",
    "    print(f'{year}은 윤년입니다.')\n",
    "elif year % 100 == 0 :\n",
    "    print(f'{year}은 윤년이 아닙니다.')\n",
    "elif year % 4 == 0 :\n",
    "    print(f'{year}은 윤년입니다.') \n",
    "else:\n",
    "    print(f'{year}은 윤년이 아닙니다.')"
   ]
  },
  {
   "cell_type": "markdown",
   "metadata": {},
   "source": [
    "# 2번문제"
   ]
  },
  {
   "cell_type": "code",
   "execution_count": null,
   "metadata": {},
   "outputs": [],
   "source": [
    "# 본인의 생일을 1998 12 15 과 같이 년 월 일로 입력받아 오늘 날짜의 만 나이를 구하는 프로그램을 작성하시오."
   ]
  },
  {
   "cell_type": "code",
   "execution_count": 30,
   "metadata": {},
   "outputs": [
    {
     "name": "stdout",
     "output_type": "stream",
     "text": [
      "만 21살 입니다.\n"
     ]
    }
   ],
   "source": [
    "# 내가 푼 문제\n",
    "year = int(input())\n",
    "month = int(input())\n",
    "day = int(input())\n",
    "age = 2021 - year + 1\n",
    "if month < 11:\n",
    "    print(f'만 {age-1}살 입니다.')\n",
    "elif month >= 11 :\n",
    "    if day < 19 :\n",
    "        print(f'만 {age-2}살 입니다.')\n",
    "    elif day >= 19 :\n",
    "        print(f'만 {age-1}살 입니다.')\n"
   ]
  },
  {
   "cell_type": "code",
   "execution_count": 14,
   "metadata": {},
   "outputs": [
    {
     "name": "stdout",
     "output_type": "stream",
     "text": [
      "생년월일이 2000-3-27인 사람의 만 나이는21입니다.\n"
     ]
    }
   ],
   "source": [
    "# 선생님이 푼 문제\n",
    "from datetime import date\n",
    "today = date.today()\n",
    "today\n",
    "\n",
    "year, month, day = map(int,input().split())\n",
    "if month > today.month :\n",
    "    age = today.year - year\n",
    "elif month <= today.month :\n",
    "    age = today.year - year-1\n",
    "else:\n",
    "    if day > today.date :\n",
    "        age = today.year - year\n",
    "    else :\n",
    "        age = today.year - year\n",
    "print(f'생년월일이 {year}-{month}-{day}인 사람의 만 나이는{age}입니다.')"
   ]
  },
  {
   "cell_type": "markdown",
   "metadata": {},
   "source": [
    "# 3번문제"
   ]
  },
  {
   "cell_type": "code",
   "execution_count": 31,
   "metadata": {},
   "outputs": [],
   "source": [
    "#3. 세 자연수 a, b, c 가 피타고라스 정리 a2 + b2 = c2 를 만족하면 피타고라스 수라고 부른다. (여기서 a < b < c 이고 a + b > c)\n",
    "#예를 들면, 32 + 42 = 9 + 16 = 25 = 52 이므로 3, 4, 5는 피타고라스 수입니다.\n",
    "#a + b + c = 1000 인 피타라스 수를 구하시오. (답은 한가지 뿐이다.)"
   ]
  },
  {
   "cell_type": "code",
   "execution_count": 16,
   "metadata": {},
   "outputs": [
    {
     "name": "stdout",
     "output_type": "stream",
     "text": [
      "200 375 425\n"
     ]
    }
   ],
   "source": [
    "# 내가 푼 문제\n",
    "for x in range(1000):  \n",
    "    for y in range(1000):\n",
    "        for z in range(1000):\n",
    "            if x**2 + y**2 == z**2:\n",
    "                if x < y < z and x + y > z:\n",
    "                    if x + y + z == 1000:\n",
    "                        print(x,y,z)\n",
    "                        \n",
    "                        \n",
    "                                                         # x=200\n",
    "                                                         # y=375\n",
    "                                                         # z=425  \n",
    "                    \n"
   ]
  },
  {
   "cell_type": "code",
   "execution_count": 15,
   "metadata": {},
   "outputs": [
    {
     "name": "stdout",
     "output_type": "stream",
     "text": [
      "200 375 425\n"
     ]
    }
   ],
   "source": [
    "# 선생님이 푼 문제\n",
    "for a in range(1,1001):\n",
    "    for b in range(a+1,1001):\n",
    "        c = 1000 - a - b\n",
    "        if a*a + b*b == c*c :\n",
    "            print(a,b,c)\n",
    "            break\n"
   ]
  },
  {
   "cell_type": "code",
   "execution_count": null,
   "metadata": {},
   "outputs": [],
   "source": [
    "# 선생님이 푼 문제\n",
    "flag = False\n",
    "for a in range(1,333):                   #a는 332까지\n",
    "    for b in range(a+1,500):             #b는 499까지\n",
    "        c = 1000 - a - b\n",
    "        if a*a + b*b == c*c :\n",
    "            print(a,b,c)\n",
    "            flage = True\n",
    "            break\n",
    "    if flag:\n",
    "        break"
   ]
  },
  {
   "cell_type": "markdown",
   "metadata": {},
   "source": [
    "# 반복문 문제\n",
    "# 1번문제"
   ]
  },
  {
   "cell_type": "code",
   "execution_count": 59,
   "metadata": {},
   "outputs": [],
   "source": [
    "#(별 그리기) 5이상 9이하의 홀수를 입력받아 다이아몬드 형태의 별을 출력하는 프로그램을 작성하시오. \n",
    "# 예) N=7                                   N=5\n",
    "#   *                                     #  * \n",
    "#  ***                                    # ***\n",
    "# *****                                   #*****    \n",
    "#*******                                  # ***\n",
    "# *****                                   #  * \n",
    "#  ***\n",
    "#   *\n"
   ]
  },
  {
   "cell_type": "code",
   "execution_count": 3,
   "metadata": {},
   "outputs": [
    {
     "name": "stdout",
     "output_type": "stream",
     "text": [
      "    *\n",
      "   ***\n",
      "  *****\n",
      " *******\n",
      "*********\n",
      " *******\n",
      "  *****\n",
      "   ***\n",
      "    *\n"
     ]
    }
   ],
   "source": [
    "a = int(input())\n",
    "\n",
    "if 5 <= a <=9 and a % 2 == 1:\n",
    "    if a == 5:\n",
    "        for i in range(3):\n",
    "            for k in range(2-i):\n",
    "                print(' ',end='')\n",
    "            for k in range(2*i+1):\n",
    "                print('*',end='')\n",
    "            print()\n",
    "        for i in range(2,0,-1):\n",
    "            for k in range(3-i):\n",
    "                print(' ',end=(''))\n",
    "            for k in range(2*i-1):\n",
    "                print('*',end='')\n",
    "            print()\n",
    "\n",
    "    if a == 7 :\n",
    "        for i in range(4):\n",
    "            for k in range(3-i):\n",
    "                print(' ',end='')\n",
    "            for k in range(2*i+1):\n",
    "                print('*',end='')\n",
    "            print()\n",
    "        for i in range(3,0,-1):\n",
    "            for k in range(4-i):\n",
    "                print(' ',end='')\n",
    "            for k in range(2*i-1):\n",
    "                print('*',end='')\n",
    "            print()\n",
    "\n",
    "    if a == 9 :\n",
    "        for i in range(5):\n",
    "            for k in range(4-i):\n",
    "                print(' ', end='') \n",
    "            for k in range(2*i+1):\n",
    "                print('*',end='')\n",
    "            print()\n",
    "        for i in range(4,0,-1):\n",
    "            for k in range(5-i):\n",
    "                print(' ', end='') \n",
    "            for k in range(2*i-1):\n",
    "                print('*',end='')\n",
    "            print()\n",
    "\n",
    "        "
   ]
  },
  {
   "cell_type": "markdown",
   "metadata": {},
   "source": [
    "# 2번문제"
   ]
  },
  {
   "cell_type": "code",
   "execution_count": null,
   "metadata": {},
   "outputs": [],
   "source": [
    "#2. 디지털 시계에 하루동안(00:00~23:59) 3이 표시되는 시간을 초로 환산하면 총 몇 초(second) 일까요? -\n",
    "#   디지털 시계는 하루동안 다음과 같이 시:분(00:00~23:59)으로 표시됨.\n",
    "#   00:00 (60초간 표시) 00:01 … 23:59"
   ]
  },
  {
   "cell_type": "code",
   "execution_count": null,
   "metadata": {},
   "outputs": [],
   "source": []
  },
  {
   "cell_type": "code",
   "execution_count": null,
   "metadata": {},
   "outputs": [],
   "source": [
    "#3. 1~1000에서 각 숫자의 개수를 구하시오. \n",
    "# - 예로 10 ~ 15 까지의 각 숫자의 개수를 구해보자. \n",
    "# 10 = 1, 0 11 = 1, 1 12 = 1, 2 13 = 1, 3 14 = 1, 4 15 = 1, 5\n",
    "#그러므로 이 경우의 답은 0:1개, 1:7개, 2:1개, 3:1개, 4:1개, 5:1개"
   ]
  },
  {
   "cell_type": "code",
   "execution_count": null,
   "metadata": {},
   "outputs": [],
   "source": [
    "print(f'{1:{a}개, 2:{b}개, 3:{c}개, 4:{d}개, 5:{e}개, 6:{f}개, 7:{g}개, 8:{h}개. 9:{l}개 입니다.')"
   ]
  },
  {
   "cell_type": "code",
   "execution_count": 3,
   "metadata": {},
   "outputs": [
    {
     "ename": "SyntaxError",
     "evalue": "f-string: expecting '}' (<ipython-input-3-01b00338ddaa>, line 3)",
     "output_type": "error",
     "traceback": [
      "\u001b[1;36m  File \u001b[1;32m\"<ipython-input-3-01b00338ddaa>\"\u001b[1;36m, line \u001b[1;32m3\u001b[0m\n\u001b[1;33m    print(f'{1:{a}개, 2:{b}개, 3:{c}개, 4:{d}개, 5:{e}개, 6:{f}개, 7:{g}개, 8:{h}개. 9:{l}개 입니다.')\u001b[0m\n\u001b[1;37m          ^\u001b[0m\n\u001b[1;31mSyntaxError\u001b[0m\u001b[1;31m:\u001b[0m f-string: expecting '}'\n"
     ]
    }
   ],
   "source": [
    "for i in range(1,1001):\n",
    "  str(i)\n",
    "  if i < 10 :\n",
    "    print(f'{1:{a}개, 2:{b}개, 3:{c}개, 4:{d}개, 5:{e}개, 6:{f}개, 7:{g}개, 8:{h}개. 9:{l}개 입니다.')\n",
    "    "
   ]
  },
  {
   "cell_type": "code",
   "execution_count": 2,
   "metadata": {},
   "outputs": [
    {
     "name": "stdout",
     "output_type": "stream",
     "text": [
      "1 0\n"
     ]
    }
   ],
   "source": [
    "for i in range(1,1001):\n",
    "    if i == 10 :\n",
    "        print(1,0)\n",
    "        "
   ]
  },
  {
   "cell_type": "code",
   "execution_count": null,
   "metadata": {},
   "outputs": [],
   "source": [
    "# 4. 자기 자신을 제외한 모든 양의 약수들의 합이 자기 자신이 되는 자연수를 완전수라고 한다. 예를 들면, 6과 28은 완전수이다. 6=1+2+3         \n",
    "# # 1,2,3은 각각 6의 약수 28=1+2+4+7+14   # 1,2,4,7,14는 각각 28의 약수.\n",
    "# 입력으로 자연수 N을 받고, 출력으로 N 이하의 모든 완전수를 출력하는 코드를 작성하시오."
   ]
  },
  {
   "cell_type": "code",
   "execution_count": 37,
   "metadata": {},
   "outputs": [
    {
     "name": "stdout",
     "output_type": "stream",
     "text": [
      "3 2   1 "
     ]
    }
   ],
   "source": [
    "N = int(input())\n",
    "for i in range (2,7):\n",
    "    if N % i == 0 :\n",
    "        i=N/i\n",
    "        print(int(i),end = \"\")\n",
    "        \n",
    "    print(end = \" \")\n",
    "    i!=i\n",
    "    "
   ]
  },
  {
   "cell_type": "code",
   "execution_count": null,
   "metadata": {},
   "outputs": [],
   "source": [
    "import random as rd \n",
    "rd.seed(2021)\n",
    "dice = rd.randint(1,6)\n",
    "while dice != 3:\n",
    "    print(dice, end=' ')\n",
    "    dice = rd.randint(1,6)"
   ]
  },
  {
   "cell_type": "code",
   "execution_count": 44,
   "metadata": {},
   "outputs": [
    {
     "name": "stdout",
     "output_type": "stream",
     "text": [
      "1111"
     ]
    }
   ],
   "source": [
    "N = int(input())\n",
    "while 0 < i < N  :\n",
    "    for a in range(2,N) :\n",
    "        if i % a == 0:\n",
    "            a = i/a\n",
    "            print(int(a), end='')\n",
    "            i=i+1\n",
    "    print(end = '')\n",
    "                \n",
    "        \n",
    "        "
   ]
  },
  {
   "cell_type": "code",
   "execution_count": null,
   "metadata": {},
   "outputs": [],
   "source": [
    "N = int(input())\n",
    "while 0 < i < 6  :\n",
    "    for a in range(2,6) :        #a=2 3 4 5\n",
    "        if i % a == 0:\n",
    "            \n",
    "            a = i/a\n",
    "            print(int(a), end='')\n",
    "            i=i+1\n",
    "    print(end = '')"
   ]
  },
  {
   "cell_type": "code",
   "execution_count": null,
   "metadata": {},
   "outputs": [],
   "source": [
    "# 5. 1부터   10까지   자연수를   각각   제곱해   더하면   다음과   같다    (제곱의   합). \n",
    "#    12 + 22 + ... + 102 = 385 \n",
    "#1부터   10을   먼저   더한   다음에   그   결과를   제곱하면   다음과   같습니다   (합의   제곱).\n",
    "#(1 + 2 + ... + 10)2 = 552 = 3025 \n",
    "#따라서   1부터   10까지   자연수에   대해    \"합의   제곱\"과 \n",
    "#\"제곱의   합\"의   차이는   3025 - 385 = 2640 이 된다.\n",
    "#입력으로   자연수   N을   받아, 1부터   N까지   자연수에   대해   \n",
    "#\"합의   제곱\"과   \"제곱의   합\"의   차이는 얼마인가?"
   ]
  }
 ],
 "metadata": {
  "interpreter": {
   "hash": "c81169c30fb96244cfba0db287a0d3fd5325268de070a7a6116eecd4596df902"
  },
  "kernelspec": {
   "display_name": "Python 3.8.8 64-bit ('base': conda)",
   "language": "python",
   "name": "python3"
  },
  "language_info": {
   "codemirror_mode": {
    "name": "ipython",
    "version": 3
   },
   "file_extension": ".py",
   "mimetype": "text/x-python",
   "name": "python",
   "nbconvert_exporter": "python",
   "pygments_lexer": "ipython3",
   "version": "3.8.8"
  },
  "orig_nbformat": 4
 },
 "nbformat": 4,
 "nbformat_minor": 2
}
