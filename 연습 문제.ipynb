{
 "cells": [
  {
   "cell_type": "markdown",
   "metadata": {},
   "source": [
    "# 조건문 문제\n",
    "# 1번문제"
   ]
  },
  {
   "cell_type": "code",
   "execution_count": null,
   "metadata": {},
   "outputs": [],
   "source": [
    "# 연도를 입력으로 받아 윤년인지 아닌지를 출력하는 프로그램을 작성하시오. \n",
    "# 윤년은 연도가 4의 배수이면서, 100의 배수가 아닐 때 또는 400의 배수일 때이다.\n",
    "# 예를들어, 2012년은 4의 배수라서 윤년이지만, 1900년은 4의 배수이지만, 100의 배수이기 때문에 윤년이 아니다. \n",
    "# 하지만, 2000년은 400의 배수이기 때문에 윤년이다.)\n"
   ]
  },
  {
   "cell_type": "code",
   "execution_count": 16,
   "metadata": {},
   "outputs": [
    {
     "name": "stdout",
     "output_type": "stream",
     "text": [
      "2600은 윤년이 아닙니다.\n"
     ]
    }
   ],
   "source": [
    "year = int(input())\n",
    "if year % 400 == 0 :\n",
    "    print(f'{year}은 윤년입니다.')\n",
    "elif year % 100 == 0 :\n",
    "    print(f'{year}은 윤년이 아닙니다.')\n",
    "elif year % 4 == 0 :\n",
    "    print(f'{year}은 윤년입니다.') \n",
    "    "
   ]
  },
  {
   "cell_type": "markdown",
   "metadata": {},
   "source": [
    "# 2번문제"
   ]
  },
  {
   "cell_type": "code",
   "execution_count": null,
   "metadata": {},
   "outputs": [],
   "source": [
    "# 본인의 생일을 1998 12 15 과 같이 년 월 일로 입력받아 오늘 날짜의 만 나이를 구하는 프로그램을 작성하시오."
   ]
  },
  {
   "cell_type": "code",
   "execution_count": 30,
   "metadata": {},
   "outputs": [
    {
     "name": "stdout",
     "output_type": "stream",
     "text": [
      "만 21살 입니다.\n"
     ]
    }
   ],
   "source": [
    "year = int(input())\n",
    "month = int(input())\n",
    "day = int(input())\n",
    "age = 2021 - year + 1\n",
    "if month < 11:\n",
    "    print(f'만 {age-1}살 입니다.')\n",
    "elif month >= 11 :\n",
    "    if day < 19 :\n",
    "        print(f'만 {age-2}살 입니다.')\n",
    "    elif day >= 19 :\n",
    "        print(f'만 {age-1}살 입니다.')\n"
   ]
  },
  {
   "cell_type": "markdown",
   "metadata": {},
   "source": [
    "# 3번문제"
   ]
  },
  {
   "cell_type": "code",
   "execution_count": 31,
   "metadata": {},
   "outputs": [],
   "source": [
    "#3. 세 자연수 a, b, c 가 피타고라스 정리 a2 + b2 = c2 를 만족하면 피타고라스 수라고 부른다. (여기서 a < b < c 이고 a + b > c)\n",
    "#예를 들면, 32 + 42 = 9 + 16 = 25 = 52 이므로 3, 4, 5는 피타고라스 수입니다.\n",
    "#a + b + c = 1000 인 피타라스 수를 구하시오. (답은 한가지 뿐이다.)"
   ]
  },
  {
   "cell_type": "code",
   "execution_count": 58,
   "metadata": {},
   "outputs": [
    {
     "name": "stdout",
     "output_type": "stream",
     "text": [
      "200 375 425\n"
     ]
    },
    {
     "ename": "KeyboardInterrupt",
     "evalue": "",
     "output_type": "error",
     "traceback": [
      "\u001b[1;31m---------------------------------------------------------------------------\u001b[0m",
      "\u001b[1;31mKeyboardInterrupt\u001b[0m                         Traceback (most recent call last)",
      "\u001b[1;32m<ipython-input-58-90b03ecf4874>\u001b[0m in \u001b[0;36m<module>\u001b[1;34m\u001b[0m\n\u001b[0;32m      2\u001b[0m     \u001b[1;32mfor\u001b[0m \u001b[0my\u001b[0m \u001b[1;32min\u001b[0m \u001b[0mrange\u001b[0m\u001b[1;33m(\u001b[0m\u001b[1;36m1000\u001b[0m\u001b[1;33m)\u001b[0m\u001b[1;33m:\u001b[0m\u001b[1;33m\u001b[0m\u001b[1;33m\u001b[0m\u001b[0m\n\u001b[0;32m      3\u001b[0m         \u001b[1;32mfor\u001b[0m \u001b[0mz\u001b[0m \u001b[1;32min\u001b[0m \u001b[0mrange\u001b[0m\u001b[1;33m(\u001b[0m\u001b[1;36m1000\u001b[0m\u001b[1;33m)\u001b[0m\u001b[1;33m:\u001b[0m\u001b[1;33m\u001b[0m\u001b[1;33m\u001b[0m\u001b[0m\n\u001b[1;32m----> 4\u001b[1;33m             \u001b[1;32mif\u001b[0m \u001b[0mx\u001b[0m\u001b[1;33m**\u001b[0m\u001b[1;36m2\u001b[0m \u001b[1;33m+\u001b[0m \u001b[0my\u001b[0m\u001b[1;33m**\u001b[0m\u001b[1;36m2\u001b[0m \u001b[1;33m==\u001b[0m \u001b[0mz\u001b[0m\u001b[1;33m**\u001b[0m\u001b[1;36m2\u001b[0m\u001b[1;33m:\u001b[0m\u001b[1;33m\u001b[0m\u001b[1;33m\u001b[0m\u001b[0m\n\u001b[0m\u001b[0;32m      5\u001b[0m                 \u001b[1;32mif\u001b[0m \u001b[0mx\u001b[0m \u001b[1;33m<\u001b[0m \u001b[0my\u001b[0m \u001b[1;33m<\u001b[0m \u001b[0mz\u001b[0m \u001b[1;32mand\u001b[0m \u001b[0mx\u001b[0m \u001b[1;33m+\u001b[0m \u001b[0my\u001b[0m \u001b[1;33m>\u001b[0m \u001b[0mz\u001b[0m\u001b[1;33m:\u001b[0m\u001b[1;33m\u001b[0m\u001b[1;33m\u001b[0m\u001b[0m\n\u001b[0;32m      6\u001b[0m                     \u001b[1;32mif\u001b[0m \u001b[0mx\u001b[0m \u001b[1;33m+\u001b[0m \u001b[0my\u001b[0m \u001b[1;33m+\u001b[0m \u001b[0mz\u001b[0m \u001b[1;33m==\u001b[0m \u001b[1;36m1000\u001b[0m\u001b[1;33m:\u001b[0m\u001b[1;33m\u001b[0m\u001b[1;33m\u001b[0m\u001b[0m\n",
      "\u001b[1;31mKeyboardInterrupt\u001b[0m: "
     ]
    }
   ],
   "source": [
    "for x in range(1000):  \n",
    "    for y in range(1000):\n",
    "        for z in range(1000):\n",
    "            if x**2 + y**2 == z**2:\n",
    "                if x < y < z and x + y > z:\n",
    "                    if x + y + z == 1000:\n",
    "                        print(x,y,z)                     # x=200\n",
    "                                                         # y=375\n",
    "                                                         # z=425  \n",
    "                    \n"
   ]
  },
  {
   "cell_type": "markdown",
   "metadata": {},
   "source": [
    "# 반복문 문제\n",
    "# 1번문제"
   ]
  },
  {
   "cell_type": "code",
   "execution_count": 59,
   "metadata": {},
   "outputs": [],
   "source": [
    "#(별 그리기) 5이상 9이하의 홀수를 입력받아 다이아몬드 형태의 별을 출력하는 프로그램을 작성하시오. \n",
    "# 예) N=7                                   N=5\n",
    "#   *                                     #  * \n",
    "#  ***                                    # ***\n",
    "# *****                                   #*****    \n",
    "#*******                                  # ***\n",
    "# *****                                   #  * \n",
    "#  ***\n",
    "#   *\n"
   ]
  },
  {
   "cell_type": "code",
   "execution_count": 119,
   "metadata": {},
   "outputs": [
    {
     "name": "stdout",
     "output_type": "stream",
     "text": [
      "    *\n",
      "   ***\n",
      "  *****\n",
      " *******\n",
      "*********\n",
      " *******\n",
      "  *****\n",
      "   ***\n",
      "    *\n"
     ]
    }
   ],
   "source": [
    "a = int(input())\n",
    "\n",
    "if 5 <= a <=9 and a%2 == 1:\n",
    "    if a == 5:\n",
    "        for i in range(3):\n",
    "            for k in range(2-i):\n",
    "                print(' ',end='')\n",
    "            for k in range(2*i+1):\n",
    "                print('*',end='')\n",
    "            print()\n",
    "        for i in range(2,0,-1):\n",
    "            for k in range(3-i):\n",
    "                print(' ',end=(''))\n",
    "            for k in range(2*i-1):\n",
    "                print('*',end='')\n",
    "            print()\n",
    "\n",
    "    if a == 7 :\n",
    "        for i in range(4):\n",
    "            for k in range(3-i):\n",
    "                print(' ',end='')\n",
    "            for k in range(2*i+1):\n",
    "                print('*',end='')\n",
    "            print()\n",
    "        for i in range(3,0,-1):\n",
    "            for k in range(4-i):\n",
    "                print(' ',end='')\n",
    "            for k in range(2*i-1):\n",
    "                print('*',end='')\n",
    "            print()\n",
    "\n",
    "    if a == 9 :\n",
    "        for i in range(5):\n",
    "            for k in range(4-i):\n",
    "                print(' ', end='') \n",
    "            for k in range(2*i+1):\n",
    "                print('*',end='')\n",
    "            print()\n",
    "        for i in range(4,0,-1):\n",
    "            for k in range(5-i):\n",
    "                print(' ', end='') \n",
    "            for k in range(2*i-1):\n",
    "                print('*',end='')\n",
    "            print()\n",
    "\n",
    "        "
   ]
  },
  {
   "cell_type": "code",
   "execution_count": 112,
   "metadata": {},
   "outputs": [
    {
     "name": "stdout",
     "output_type": "stream",
     "text": [
      "   *\n",
      "  ***\n",
      " *****\n",
      "*******\n"
     ]
    }
   ],
   "source": [
    "# Diamond 그리기\n",
    "for i in range(4):\n",
    "    for k in range(3-i):\n",
    "        print(' ', end='')\n",
    "    for k in range(2*i+1):\n",
    "        print('*', end='')\n",
    "    print()\n"
   ]
  },
  {
   "cell_type": "markdown",
   "metadata": {},
   "source": [
    "# 2번문제"
   ]
  },
  {
   "cell_type": "code",
   "execution_count": null,
   "metadata": {},
   "outputs": [],
   "source": [
    "#2. 디지털 시계에 하루동안(00:00~23:59) 3이 표시되는 시간을 초로 환산하면 총 몇 초(second) 일까요? -\n",
    "#   디지털 시계는 하루동안 다음과 같이 시:분(00:00~23:59)으로 표시됨.\n",
    "#   00:00 (60초간 표시) 00:01 … 23:59"
   ]
  },
  {
   "cell_type": "code",
   "execution_count": null,
   "metadata": {},
   "outputs": [],
   "source": []
  }
 ],
 "metadata": {
  "interpreter": {
   "hash": "c81169c30fb96244cfba0db287a0d3fd5325268de070a7a6116eecd4596df902"
  },
  "kernelspec": {
   "display_name": "Python 3.8.8 64-bit ('base': conda)",
   "language": "python",
   "name": "python3"
  },
  "language_info": {
   "codemirror_mode": {
    "name": "ipython",
    "version": 3
   },
   "file_extension": ".py",
   "mimetype": "text/x-python",
   "name": "python",
   "nbconvert_exporter": "python",
   "pygments_lexer": "ipython3",
   "version": "3.8.8"
  },
  "orig_nbformat": 4
 },
 "nbformat": 4,
 "nbformat_minor": 2
}
